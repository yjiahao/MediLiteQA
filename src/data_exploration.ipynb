{
 "cells": [
  {
   "cell_type": "code",
   "execution_count": 2,
   "metadata": {
    "_cell_guid": "b1076dfc-b9ad-4769-8c92-a6c4dae69d19",
    "_uuid": "8f2839f25d086af736a60e9eeb907d3b93b6e0e5",
    "execution": {
     "iopub.execute_input": "2025-09-25T10:20:22.580212Z",
     "iopub.status.busy": "2025-09-25T10:20:22.579329Z",
     "iopub.status.idle": "2025-09-25T10:20:22.584524Z",
     "shell.execute_reply": "2025-09-25T10:20:22.583711Z",
     "shell.execute_reply.started": "2025-09-25T10:20:22.580183Z"
    },
    "trusted": true
   },
   "outputs": [],
   "source": [
    "import numpy as np\n",
    "import pandas as pd\n",
    "import matplotlib.pyplot as plt\n",
    "\n",
    "import seaborn as sns\n",
    "\n",
    "from collections import Counter"
   ]
  },
  {
   "cell_type": "code",
   "execution_count": 3,
   "metadata": {
    "execution": {
     "iopub.execute_input": "2025-09-25T10:43:00.248690Z",
     "iopub.status.busy": "2025-09-25T10:43:00.248334Z",
     "iopub.status.idle": "2025-09-25T10:43:00.484193Z",
     "shell.execute_reply": "2025-09-25T10:43:00.483583Z",
     "shell.execute_reply.started": "2025-09-25T10:43:00.248667Z"
    },
    "trusted": true
   },
   "outputs": [],
   "source": [
    "PATH = '../data/raw/medquad.csv'\n",
    "\n",
    "df = pd.read_csv(PATH)"
   ]
  },
  {
   "cell_type": "code",
   "execution_count": 4,
   "metadata": {
    "execution": {
     "iopub.execute_input": "2025-09-25T10:43:01.844576Z",
     "iopub.status.busy": "2025-09-25T10:43:01.844206Z",
     "iopub.status.idle": "2025-09-25T10:43:01.854459Z",
     "shell.execute_reply": "2025-09-25T10:43:01.853547Z",
     "shell.execute_reply.started": "2025-09-25T10:43:01.844550Z"
    },
    "trusted": true
   },
   "outputs": [
    {
     "data": {
      "text/html": [
       "<div>\n",
       "<style scoped>\n",
       "    .dataframe tbody tr th:only-of-type {\n",
       "        vertical-align: middle;\n",
       "    }\n",
       "\n",
       "    .dataframe tbody tr th {\n",
       "        vertical-align: top;\n",
       "    }\n",
       "\n",
       "    .dataframe thead th {\n",
       "        text-align: right;\n",
       "    }\n",
       "</style>\n",
       "<table border=\"1\" class=\"dataframe\">\n",
       "  <thead>\n",
       "    <tr style=\"text-align: right;\">\n",
       "      <th></th>\n",
       "      <th>question</th>\n",
       "      <th>answer</th>\n",
       "      <th>source</th>\n",
       "      <th>focus_area</th>\n",
       "    </tr>\n",
       "  </thead>\n",
       "  <tbody>\n",
       "    <tr>\n",
       "      <th>0</th>\n",
       "      <td>What is (are) Glaucoma ?</td>\n",
       "      <td>Glaucoma is a group of diseases that can damag...</td>\n",
       "      <td>NIHSeniorHealth</td>\n",
       "      <td>Glaucoma</td>\n",
       "    </tr>\n",
       "    <tr>\n",
       "      <th>1</th>\n",
       "      <td>What causes Glaucoma ?</td>\n",
       "      <td>Nearly 2.7 million people have glaucoma, a lea...</td>\n",
       "      <td>NIHSeniorHealth</td>\n",
       "      <td>Glaucoma</td>\n",
       "    </tr>\n",
       "    <tr>\n",
       "      <th>2</th>\n",
       "      <td>What are the symptoms of Glaucoma ?</td>\n",
       "      <td>Symptoms of Glaucoma  Glaucoma can develop in ...</td>\n",
       "      <td>NIHSeniorHealth</td>\n",
       "      <td>Glaucoma</td>\n",
       "    </tr>\n",
       "    <tr>\n",
       "      <th>3</th>\n",
       "      <td>What are the treatments for Glaucoma ?</td>\n",
       "      <td>Although open-angle glaucoma cannot be cured, ...</td>\n",
       "      <td>NIHSeniorHealth</td>\n",
       "      <td>Glaucoma</td>\n",
       "    </tr>\n",
       "    <tr>\n",
       "      <th>4</th>\n",
       "      <td>What is (are) Glaucoma ?</td>\n",
       "      <td>Glaucoma is a group of diseases that can damag...</td>\n",
       "      <td>NIHSeniorHealth</td>\n",
       "      <td>Glaucoma</td>\n",
       "    </tr>\n",
       "  </tbody>\n",
       "</table>\n",
       "</div>"
      ],
      "text/plain": [
       "                                 question  \\\n",
       "0                What is (are) Glaucoma ?   \n",
       "1                  What causes Glaucoma ?   \n",
       "2     What are the symptoms of Glaucoma ?   \n",
       "3  What are the treatments for Glaucoma ?   \n",
       "4                What is (are) Glaucoma ?   \n",
       "\n",
       "                                              answer           source  \\\n",
       "0  Glaucoma is a group of diseases that can damag...  NIHSeniorHealth   \n",
       "1  Nearly 2.7 million people have glaucoma, a lea...  NIHSeniorHealth   \n",
       "2  Symptoms of Glaucoma  Glaucoma can develop in ...  NIHSeniorHealth   \n",
       "3  Although open-angle glaucoma cannot be cured, ...  NIHSeniorHealth   \n",
       "4  Glaucoma is a group of diseases that can damag...  NIHSeniorHealth   \n",
       "\n",
       "  focus_area  \n",
       "0   Glaucoma  \n",
       "1   Glaucoma  \n",
       "2   Glaucoma  \n",
       "3   Glaucoma  \n",
       "4   Glaucoma  "
      ]
     },
     "execution_count": 4,
     "metadata": {},
     "output_type": "execute_result"
    }
   ],
   "source": [
    "df.head()"
   ]
  },
  {
   "cell_type": "code",
   "execution_count": 5,
   "metadata": {
    "execution": {
     "iopub.execute_input": "2025-09-25T10:43:03.307766Z",
     "iopub.status.busy": "2025-09-25T10:43:03.307446Z",
     "iopub.status.idle": "2025-09-25T10:43:03.322448Z",
     "shell.execute_reply": "2025-09-25T10:43:03.321751Z",
     "shell.execute_reply.started": "2025-09-25T10:43:03.307726Z"
    },
    "trusted": true
   },
   "outputs": [
    {
     "name": "stdout",
     "output_type": "stream",
     "text": [
      "<class 'pandas.core.frame.DataFrame'>\n",
      "RangeIndex: 16412 entries, 0 to 16411\n",
      "Data columns (total 4 columns):\n",
      " #   Column      Non-Null Count  Dtype \n",
      "---  ------      --------------  ----- \n",
      " 0   question    16412 non-null  object\n",
      " 1   answer      16407 non-null  object\n",
      " 2   source      16412 non-null  object\n",
      " 3   focus_area  16398 non-null  object\n",
      "dtypes: object(4)\n",
      "memory usage: 513.0+ KB\n"
     ]
    }
   ],
   "source": [
    "df.info()"
   ]
  },
  {
   "cell_type": "code",
   "execution_count": 6,
   "metadata": {
    "execution": {
     "iopub.execute_input": "2025-09-25T10:43:32.644827Z",
     "iopub.status.busy": "2025-09-25T10:43:32.644145Z",
     "iopub.status.idle": "2025-09-25T10:43:32.657078Z",
     "shell.execute_reply": "2025-09-25T10:43:32.656221Z",
     "shell.execute_reply.started": "2025-09-25T10:43:32.644798Z"
    },
    "trusted": true
   },
   "outputs": [
    {
     "name": "stdout",
     "output_type": "stream",
     "text": [
      "Shape of df before dropping: (16412, 4)\n",
      "Shape of df after dropping: (16393, 4)\n"
     ]
    }
   ],
   "source": [
    "# drop na values\n",
    "print(f'Shape of df before dropping: {df.shape}')\n",
    "df = df.dropna()\n",
    "print(f'Shape of df after dropping: {df.shape}')"
   ]
  },
  {
   "cell_type": "markdown",
   "metadata": {},
   "source": [
    "## Explore questions in each focus area"
   ]
  },
  {
   "cell_type": "markdown",
   "metadata": {},
   "source": [
    "### Number of questions per focus area"
   ]
  },
  {
   "cell_type": "code",
   "execution_count": 7,
   "metadata": {
    "execution": {
     "iopub.execute_input": "2025-09-25T10:43:35.770630Z",
     "iopub.status.busy": "2025-09-25T10:43:35.770313Z",
     "iopub.status.idle": "2025-09-25T10:43:35.787430Z",
     "shell.execute_reply": "2025-09-25T10:43:35.786678Z",
     "shell.execute_reply.started": "2025-09-25T10:43:35.770609Z"
    },
    "trusted": true
   },
   "outputs": [],
   "source": [
    "counts_per_focus_area = df\\\n",
    "    .groupby('focus_area')\\\n",
    "    .count()[['question']]\\\n",
    "    .reset_index()\\\n",
    "    .sort_values(by='question', ascending=False)"
   ]
  },
  {
   "cell_type": "code",
   "execution_count": 8,
   "metadata": {
    "execution": {
     "iopub.execute_input": "2025-09-25T10:43:38.612336Z",
     "iopub.status.busy": "2025-09-25T10:43:38.611762Z",
     "iopub.status.idle": "2025-09-25T10:43:38.619809Z",
     "shell.execute_reply": "2025-09-25T10:43:38.619028Z",
     "shell.execute_reply.started": "2025-09-25T10:43:38.612312Z"
    },
    "trusted": true
   },
   "outputs": [
    {
     "data": {
      "text/html": [
       "<div>\n",
       "<style scoped>\n",
       "    .dataframe tbody tr th:only-of-type {\n",
       "        vertical-align: middle;\n",
       "    }\n",
       "\n",
       "    .dataframe tbody tr th {\n",
       "        vertical-align: top;\n",
       "    }\n",
       "\n",
       "    .dataframe thead th {\n",
       "        text-align: right;\n",
       "    }\n",
       "</style>\n",
       "<table border=\"1\" class=\"dataframe\">\n",
       "  <thead>\n",
       "    <tr style=\"text-align: right;\">\n",
       "      <th></th>\n",
       "      <th>focus_area</th>\n",
       "      <th>question</th>\n",
       "    </tr>\n",
       "  </thead>\n",
       "  <tbody>\n",
       "    <tr>\n",
       "      <th>577</th>\n",
       "      <td>Breast Cancer</td>\n",
       "      <td>53</td>\n",
       "    </tr>\n",
       "    <tr>\n",
       "      <th>3456</th>\n",
       "      <td>Prostate Cancer</td>\n",
       "      <td>43</td>\n",
       "    </tr>\n",
       "    <tr>\n",
       "      <th>3951</th>\n",
       "      <td>Stroke</td>\n",
       "      <td>35</td>\n",
       "    </tr>\n",
       "    <tr>\n",
       "      <th>3786</th>\n",
       "      <td>Skin Cancer</td>\n",
       "      <td>34</td>\n",
       "    </tr>\n",
       "    <tr>\n",
       "      <th>217</th>\n",
       "      <td>Alzheimer's Disease</td>\n",
       "      <td>30</td>\n",
       "    </tr>\n",
       "  </tbody>\n",
       "</table>\n",
       "</div>"
      ],
      "text/plain": [
       "               focus_area  question\n",
       "577         Breast Cancer        53\n",
       "3456      Prostate Cancer        43\n",
       "3951               Stroke        35\n",
       "3786          Skin Cancer        34\n",
       "217   Alzheimer's Disease        30"
      ]
     },
     "execution_count": 8,
     "metadata": {},
     "output_type": "execute_result"
    }
   ],
   "source": [
    "counts_per_focus_area.head()"
   ]
  },
  {
   "cell_type": "code",
   "execution_count": 9,
   "metadata": {
    "execution": {
     "iopub.execute_input": "2025-09-25T10:43:46.381437Z",
     "iopub.status.busy": "2025-09-25T10:43:46.380884Z",
     "iopub.status.idle": "2025-09-25T10:43:46.720877Z",
     "shell.execute_reply": "2025-09-25T10:43:46.720022Z",
     "shell.execute_reply.started": "2025-09-25T10:43:46.381404Z"
    },
    "trusted": true
   },
   "outputs": [
    {
     "data": {
      "image/png": "[encoded data removed]",
      "text/plain": [
       "<Figure size 1500x1000 with 1 Axes>"
      ]
     },
     "metadata": {},
     "output_type": "display_data"
    }
   ],
   "source": [
    "plt.figure(figsize=(15, 10))\n",
    "\n",
    "sns.barplot(\n",
    "    data=counts_per_focus_area.head(20), # take only top 20 because got a lot of focus areas\n",
    "    x=\"focus_area\",\n",
    "    y=\"question\",\n",
    "    \n",
    ")\n",
    "\n",
    "plt.xticks(rotation=45, ha=\"right\")\n",
    "plt.title(\"Top 20 Focus Areas by Question Count\")\n",
    "plt.show()"
   ]
  },
  {
   "cell_type": "code",
   "execution_count": 10,
   "metadata": {
    "execution": {
     "iopub.execute_input": "2025-09-25T10:43:50.145518Z",
     "iopub.status.busy": "2025-09-25T10:43:50.145198Z",
     "iopub.status.idle": "2025-09-25T10:43:50.155017Z",
     "shell.execute_reply": "2025-09-25T10:43:50.154164Z",
     "shell.execute_reply.started": "2025-09-25T10:43:50.145491Z"
    },
    "trusted": true
   },
   "outputs": [
    {
     "data": {
      "text/html": [
       "<div>\n",
       "<style scoped>\n",
       "    .dataframe tbody tr th:only-of-type {\n",
       "        vertical-align: middle;\n",
       "    }\n",
       "\n",
       "    .dataframe tbody tr th {\n",
       "        vertical-align: top;\n",
       "    }\n",
       "\n",
       "    .dataframe thead th {\n",
       "        text-align: right;\n",
       "    }\n",
       "</style>\n",
       "<table border=\"1\" class=\"dataframe\">\n",
       "  <thead>\n",
       "    <tr style=\"text-align: right;\">\n",
       "      <th></th>\n",
       "      <th>focus_area</th>\n",
       "      <th>question</th>\n",
       "    </tr>\n",
       "  </thead>\n",
       "  <tbody>\n",
       "    <tr>\n",
       "      <th>4</th>\n",
       "      <td>15q13.3 microduplication syndrome</td>\n",
       "      <td>1</td>\n",
       "    </tr>\n",
       "    <tr>\n",
       "      <th>12</th>\n",
       "      <td>18 Hydroxylase deficiency</td>\n",
       "      <td>1</td>\n",
       "    </tr>\n",
       "    <tr>\n",
       "      <th>14</th>\n",
       "      <td>19p13.12 microdeletion syndrome</td>\n",
       "      <td>1</td>\n",
       "    </tr>\n",
       "    <tr>\n",
       "      <th>18</th>\n",
       "      <td>1q44 microdeletion syndrome</td>\n",
       "      <td>1</td>\n",
       "    </tr>\n",
       "    <tr>\n",
       "      <th>2116</th>\n",
       "      <td>Infant and Newborn Development</td>\n",
       "      <td>1</td>\n",
       "    </tr>\n",
       "  </tbody>\n",
       "</table>\n",
       "</div>"
      ],
      "text/plain": [
       "                             focus_area  question\n",
       "4     15q13.3 microduplication syndrome         1\n",
       "12            18 Hydroxylase deficiency         1\n",
       "14      19p13.12 microdeletion syndrome         1\n",
       "18          1q44 microdeletion syndrome         1\n",
       "2116     Infant and Newborn Development         1"
      ]
     },
     "execution_count": 10,
     "metadata": {},
     "output_type": "execute_result"
    }
   ],
   "source": [
    "# check those with only 1 question answer pair\n",
    "one_question = counts_per_focus_area[counts_per_focus_area['question'] == 1]\n",
    "one_question.head()"
   ]
  },
  {
   "cell_type": "code",
   "execution_count": 11,
   "metadata": {
    "execution": {
     "iopub.execute_input": "2025-09-25T10:43:51.773660Z",
     "iopub.status.busy": "2025-09-25T10:43:51.773321Z",
     "iopub.status.idle": "2025-09-25T10:43:51.779221Z",
     "shell.execute_reply": "2025-09-25T10:43:51.778502Z",
     "shell.execute_reply.started": "2025-09-25T10:43:51.773636Z"
    },
    "trusted": true
   },
   "outputs": [
    {
     "data": {
      "text/plain": [
       "(2332, 2)"
      ]
     },
     "execution_count": 11,
     "metadata": {},
     "output_type": "execute_result"
    }
   ],
   "source": [
    "one_question.shape"
   ]
  },
  {
   "cell_type": "markdown",
   "metadata": {},
   "source": [
    "2332 focus areas have only one question. It could affect the qualitative performance of the finetuned models later on if we ask them questions related to these focus areas."
   ]
  },
  {
   "cell_type": "markdown",
   "metadata": {},
   "source": [
    "### Average question and answer length by focus area"
   ]
  },
  {
   "cell_type": "code",
   "execution_count": 12,
   "metadata": {
    "execution": {
     "iopub.execute_input": "2025-09-25T10:43:59.083800Z",
     "iopub.status.busy": "2025-09-25T10:43:59.083473Z",
     "iopub.status.idle": "2025-09-25T10:43:59.092264Z",
     "shell.execute_reply": "2025-09-25T10:43:59.091556Z",
     "shell.execute_reply.started": "2025-09-25T10:43:59.083778Z"
    },
    "trusted": true
   },
   "outputs": [
    {
     "data": {
      "text/html": [
       "<div>\n",
       "<style scoped>\n",
       "    .dataframe tbody tr th:only-of-type {\n",
       "        vertical-align: middle;\n",
       "    }\n",
       "\n",
       "    .dataframe tbody tr th {\n",
       "        vertical-align: top;\n",
       "    }\n",
       "\n",
       "    .dataframe thead th {\n",
       "        text-align: right;\n",
       "    }\n",
       "</style>\n",
       "<table border=\"1\" class=\"dataframe\">\n",
       "  <thead>\n",
       "    <tr style=\"text-align: right;\">\n",
       "      <th></th>\n",
       "      <th>question</th>\n",
       "      <th>answer</th>\n",
       "      <th>source</th>\n",
       "      <th>focus_area</th>\n",
       "    </tr>\n",
       "  </thead>\n",
       "  <tbody>\n",
       "    <tr>\n",
       "      <th>0</th>\n",
       "      <td>What is (are) Glaucoma ?</td>\n",
       "      <td>Glaucoma is a group of diseases that can damag...</td>\n",
       "      <td>NIHSeniorHealth</td>\n",
       "      <td>Glaucoma</td>\n",
       "    </tr>\n",
       "    <tr>\n",
       "      <th>1</th>\n",
       "      <td>What causes Glaucoma ?</td>\n",
       "      <td>Nearly 2.7 million people have glaucoma, a lea...</td>\n",
       "      <td>NIHSeniorHealth</td>\n",
       "      <td>Glaucoma</td>\n",
       "    </tr>\n",
       "    <tr>\n",
       "      <th>2</th>\n",
       "      <td>What are the symptoms of Glaucoma ?</td>\n",
       "      <td>Symptoms of Glaucoma  Glaucoma can develop in ...</td>\n",
       "      <td>NIHSeniorHealth</td>\n",
       "      <td>Glaucoma</td>\n",
       "    </tr>\n",
       "    <tr>\n",
       "      <th>3</th>\n",
       "      <td>What are the treatments for Glaucoma ?</td>\n",
       "      <td>Although open-angle glaucoma cannot be cured, ...</td>\n",
       "      <td>NIHSeniorHealth</td>\n",
       "      <td>Glaucoma</td>\n",
       "    </tr>\n",
       "    <tr>\n",
       "      <th>4</th>\n",
       "      <td>What is (are) Glaucoma ?</td>\n",
       "      <td>Glaucoma is a group of diseases that can damag...</td>\n",
       "      <td>NIHSeniorHealth</td>\n",
       "      <td>Glaucoma</td>\n",
       "    </tr>\n",
       "  </tbody>\n",
       "</table>\n",
       "</div>"
      ],
      "text/plain": [
       "                                 question  \\\n",
       "0                What is (are) Glaucoma ?   \n",
       "1                  What causes Glaucoma ?   \n",
       "2     What are the symptoms of Glaucoma ?   \n",
       "3  What are the treatments for Glaucoma ?   \n",
       "4                What is (are) Glaucoma ?   \n",
       "\n",
       "                                              answer           source  \\\n",
       "0  Glaucoma is a group of diseases that can damag...  NIHSeniorHealth   \n",
       "1  Nearly 2.7 million people have glaucoma, a lea...  NIHSeniorHealth   \n",
       "2  Symptoms of Glaucoma  Glaucoma can develop in ...  NIHSeniorHealth   \n",
       "3  Although open-angle glaucoma cannot be cured, ...  NIHSeniorHealth   \n",
       "4  Glaucoma is a group of diseases that can damag...  NIHSeniorHealth   \n",
       "\n",
       "  focus_area  \n",
       "0   Glaucoma  \n",
       "1   Glaucoma  \n",
       "2   Glaucoma  \n",
       "3   Glaucoma  \n",
       "4   Glaucoma  "
      ]
     },
     "execution_count": 12,
     "metadata": {},
     "output_type": "execute_result"
    }
   ],
   "source": [
    "df.head()"
   ]
  },
  {
   "cell_type": "code",
   "execution_count": 13,
   "metadata": {
    "execution": {
     "iopub.execute_input": "2025-09-25T10:44:02.494627Z",
     "iopub.status.busy": "2025-09-25T10:44:02.493707Z",
     "iopub.status.idle": "2025-09-25T10:44:02.510714Z",
     "shell.execute_reply": "2025-09-25T10:44:02.509804Z",
     "shell.execute_reply.started": "2025-09-25T10:44:02.494598Z"
    },
    "trusted": true
   },
   "outputs": [],
   "source": [
    "df['question_length'] = df['question'].apply(lambda x: len(x.split()))"
   ]
  },
  {
   "cell_type": "code",
   "execution_count": 14,
   "metadata": {
    "execution": {
     "iopub.execute_input": "2025-09-25T10:44:04.052015Z",
     "iopub.status.busy": "2025-09-25T10:44:04.051255Z",
     "iopub.status.idle": "2025-09-25T10:44:04.069596Z",
     "shell.execute_reply": "2025-09-25T10:44:04.068783Z",
     "shell.execute_reply.started": "2025-09-25T10:44:04.051987Z"
    },
    "trusted": true
   },
   "outputs": [
    {
     "data": {
      "text/html": [
       "<div>\n",
       "<style scoped>\n",
       "    .dataframe tbody tr th:only-of-type {\n",
       "        vertical-align: middle;\n",
       "    }\n",
       "\n",
       "    .dataframe tbody tr th {\n",
       "        vertical-align: top;\n",
       "    }\n",
       "\n",
       "    .dataframe thead th {\n",
       "        text-align: right;\n",
       "    }\n",
       "</style>\n",
       "<table border=\"1\" class=\"dataframe\">\n",
       "  <thead>\n",
       "    <tr style=\"text-align: right;\">\n",
       "      <th></th>\n",
       "      <th>focus_area</th>\n",
       "      <th>question_length</th>\n",
       "    </tr>\n",
       "  </thead>\n",
       "  <tbody>\n",
       "    <tr>\n",
       "      <th>2872</th>\n",
       "      <td>National Hormone and Pituitary Program (NHPP):...</td>\n",
       "      <td>22.750</td>\n",
       "    </tr>\n",
       "    <tr>\n",
       "      <th>218</th>\n",
       "      <td>Am I at Risk for Type 2 Diabetes? Taking Steps...</td>\n",
       "      <td>22.125</td>\n",
       "    </tr>\n",
       "    <tr>\n",
       "      <th>2058</th>\n",
       "      <td>I Can Lower My Risk for Type 2 Diabetes: A Gui...</td>\n",
       "      <td>19.500</td>\n",
       "    </tr>\n",
       "    <tr>\n",
       "      <th>3927</th>\n",
       "      <td>Stargardt macular degeneration absent or hypop...</td>\n",
       "      <td>19.000</td>\n",
       "    </tr>\n",
       "    <tr>\n",
       "      <th>3578</th>\n",
       "      <td>Renal tubulopathy, diabetes mellitus, and cere...</td>\n",
       "      <td>19.000</td>\n",
       "    </tr>\n",
       "    <tr>\n",
       "      <th>4151</th>\n",
       "      <td>Trigonobrachycephaly, bulbous bifid nose, micr...</td>\n",
       "      <td>18.000</td>\n",
       "    </tr>\n",
       "    <tr>\n",
       "      <th>4349</th>\n",
       "      <td>What I need to know about Preparing for Pregna...</td>\n",
       "      <td>17.500</td>\n",
       "    </tr>\n",
       "    <tr>\n",
       "      <th>2744</th>\n",
       "      <td>Monogenic Forms of Diabetes: Neonatal Diabetes...</td>\n",
       "      <td>17.250</td>\n",
       "    </tr>\n",
       "    <tr>\n",
       "      <th>3982</th>\n",
       "      <td>Symphalangism, distal, with microdontia, denta...</td>\n",
       "      <td>17.000</td>\n",
       "    </tr>\n",
       "    <tr>\n",
       "      <th>227</th>\n",
       "      <td>Amino aciduria with mental deficiency, dwarfis...</td>\n",
       "      <td>17.000</td>\n",
       "    </tr>\n",
       "  </tbody>\n",
       "</table>\n",
       "</div>"
      ],
      "text/plain": [
       "                                             focus_area  question_length\n",
       "2872  National Hormone and Pituitary Program (NHPP):...           22.750\n",
       "218   Am I at Risk for Type 2 Diabetes? Taking Steps...           22.125\n",
       "2058  I Can Lower My Risk for Type 2 Diabetes: A Gui...           19.500\n",
       "3927  Stargardt macular degeneration absent or hypop...           19.000\n",
       "3578  Renal tubulopathy, diabetes mellitus, and cere...           19.000\n",
       "4151  Trigonobrachycephaly, bulbous bifid nose, micr...           18.000\n",
       "4349  What I need to know about Preparing for Pregna...           17.500\n",
       "2744  Monogenic Forms of Diabetes: Neonatal Diabetes...           17.250\n",
       "3982  Symphalangism, distal, with microdontia, denta...           17.000\n",
       "227   Amino aciduria with mental deficiency, dwarfis...           17.000"
      ]
     },
     "execution_count": 14,
     "metadata": {},
     "output_type": "execute_result"
    }
   ],
   "source": [
    "avg_len = df.groupby(\"focus_area\")[\"question_length\"]\\\n",
    "    .mean()\\\n",
    "    .reset_index()\\\n",
    "    .sort_values(by='question_length', ascending=False)\n",
    "\n",
    "avg_len.head(10)"
   ]
  },
  {
   "cell_type": "markdown",
   "metadata": {},
   "source": [
    "Questions are not too long"
   ]
  },
  {
   "cell_type": "code",
   "execution_count": 15,
   "metadata": {
    "execution": {
     "iopub.execute_input": "2025-09-25T10:44:07.438852Z",
     "iopub.status.busy": "2025-09-25T10:44:07.438558Z",
     "iopub.status.idle": "2025-09-25T10:44:07.611018Z",
     "shell.execute_reply": "2025-09-25T10:44:07.610406Z",
     "shell.execute_reply.started": "2025-09-25T10:44:07.438830Z"
    },
    "trusted": true
   },
   "outputs": [],
   "source": [
    "df['answer_length'] = df['answer'].apply(lambda x: len(x.split()))"
   ]
  },
  {
   "cell_type": "code",
   "execution_count": 16,
   "metadata": {
    "execution": {
     "iopub.execute_input": "2025-09-25T10:44:47.057824Z",
     "iopub.status.busy": "2025-09-25T10:44:47.056959Z",
     "iopub.status.idle": "2025-09-25T10:44:47.075688Z",
     "shell.execute_reply": "2025-09-25T10:44:47.074843Z",
     "shell.execute_reply.started": "2025-09-25T10:44:47.057796Z"
    },
    "trusted": true
   },
   "outputs": [
    {
     "data": {
      "text/html": [
       "<div>\n",
       "<style scoped>\n",
       "    .dataframe tbody tr th:only-of-type {\n",
       "        vertical-align: middle;\n",
       "    }\n",
       "\n",
       "    .dataframe tbody tr th {\n",
       "        vertical-align: top;\n",
       "    }\n",
       "\n",
       "    .dataframe thead th {\n",
       "        text-align: right;\n",
       "    }\n",
       "</style>\n",
       "<table border=\"1\" class=\"dataframe\">\n",
       "  <thead>\n",
       "    <tr style=\"text-align: right;\">\n",
       "      <th></th>\n",
       "      <th>focus_area</th>\n",
       "      <th>answer_length</th>\n",
       "    </tr>\n",
       "  </thead>\n",
       "  <tbody>\n",
       "    <tr>\n",
       "      <th>819</th>\n",
       "      <td>Childhood Vascular Tumors</td>\n",
       "      <td>1510.500000</td>\n",
       "    </tr>\n",
       "    <tr>\n",
       "      <th>2232</th>\n",
       "      <td>Kaposi Sarcoma</td>\n",
       "      <td>1351.250000</td>\n",
       "    </tr>\n",
       "    <tr>\n",
       "      <th>1042</th>\n",
       "      <td>Coronary Heart Disease Risk Factors</td>\n",
       "      <td>1271.333333</td>\n",
       "    </tr>\n",
       "    <tr>\n",
       "      <th>1348</th>\n",
       "      <td>Ehrlichiosis</td>\n",
       "      <td>1235.500000</td>\n",
       "    </tr>\n",
       "    <tr>\n",
       "      <th>3636</th>\n",
       "      <td>Rocky Mountain Spotted Fever (RMSF)</td>\n",
       "      <td>1202.000000</td>\n",
       "    </tr>\n",
       "    <tr>\n",
       "      <th>248</th>\n",
       "      <td>Anaplasmosis</td>\n",
       "      <td>1128.000000</td>\n",
       "    </tr>\n",
       "    <tr>\n",
       "      <th>818</th>\n",
       "      <td>Childhood Soft Tissue Sarcoma</td>\n",
       "      <td>1052.625000</td>\n",
       "    </tr>\n",
       "    <tr>\n",
       "      <th>817</th>\n",
       "      <td>Childhood Rhabdomyosarcoma</td>\n",
       "      <td>1009.285714</td>\n",
       "    </tr>\n",
       "    <tr>\n",
       "      <th>2740</th>\n",
       "      <td>Monitor Your Diabetes</td>\n",
       "      <td>1006.000000</td>\n",
       "    </tr>\n",
       "    <tr>\n",
       "      <th>3766</th>\n",
       "      <td>Sickle Cell Disease</td>\n",
       "      <td>1000.714286</td>\n",
       "    </tr>\n",
       "  </tbody>\n",
       "</table>\n",
       "</div>"
      ],
      "text/plain": [
       "                               focus_area  answer_length\n",
       "819             Childhood Vascular Tumors    1510.500000\n",
       "2232                       Kaposi Sarcoma    1351.250000\n",
       "1042  Coronary Heart Disease Risk Factors    1271.333333\n",
       "1348                         Ehrlichiosis    1235.500000\n",
       "3636  Rocky Mountain Spotted Fever (RMSF)    1202.000000\n",
       "248                          Anaplasmosis    1128.000000\n",
       "818         Childhood Soft Tissue Sarcoma    1052.625000\n",
       "817            Childhood Rhabdomyosarcoma    1009.285714\n",
       "2740                Monitor Your Diabetes    1006.000000\n",
       "3766                  Sickle Cell Disease    1000.714286"
      ]
     },
     "execution_count": 16,
     "metadata": {},
     "output_type": "execute_result"
    }
   ],
   "source": [
    "avg_len_ans = df.groupby(\"focus_area\")[\"answer_length\"]\\\n",
    "    .mean()\\\n",
    "    .reset_index()\\\n",
    "    .sort_values(by='answer_length', ascending=False)\n",
    "\n",
    "avg_len_ans.head(10)"
   ]
  },
  {
   "cell_type": "markdown",
   "metadata": {},
   "source": [
    "Answers contain a lot more words"
   ]
  },
  {
   "cell_type": "markdown",
   "metadata": {},
   "source": [
    "### Distribution of answer length"
   ]
  },
  {
   "cell_type": "code",
   "execution_count": 17,
   "metadata": {
    "execution": {
     "iopub.execute_input": "2025-09-25T10:47:04.418301Z",
     "iopub.status.busy": "2025-09-25T10:47:04.417652Z",
     "iopub.status.idle": "2025-09-25T10:47:04.820267Z",
     "shell.execute_reply": "2025-09-25T10:47:04.819514Z",
     "shell.execute_reply.started": "2025-09-25T10:47:04.418275Z"
    },
    "trusted": true
   },
   "outputs": [
    {
     "data": {
      "image/png": "[encoded data removed]",
      "text/plain": [
       "<Figure size 1500x1000 with 1 Axes>"
      ]
     },
     "metadata": {},
     "output_type": "display_data"
    }
   ],
   "source": [
    "plt.figure(figsize=(15, 10))\n",
    "sns.histplot(\n",
    "    data=df,\n",
    "    x='answer_length',\n",
    "    kde=True,\n",
    "    bins=70\n",
    ")\n",
    "plt.show()"
   ]
  },
  {
   "cell_type": "markdown",
   "metadata": {},
   "source": [
    "### Diversity of sources for each focus area"
   ]
  },
  {
   "cell_type": "code",
   "execution_count": 18,
   "metadata": {
    "execution": {
     "iopub.execute_input": "2025-09-25T10:50:06.635414Z",
     "iopub.status.busy": "2025-09-25T10:50:06.634862Z",
     "iopub.status.idle": "2025-09-25T10:50:06.652573Z",
     "shell.execute_reply": "2025-09-25T10:50:06.651707Z",
     "shell.execute_reply.started": "2025-09-25T10:50:06.635387Z"
    },
    "trusted": true
   },
   "outputs": [
    {
     "data": {
      "text/html": [
       "<div>\n",
       "<style scoped>\n",
       "    .dataframe tbody tr th:only-of-type {\n",
       "        vertical-align: middle;\n",
       "    }\n",
       "\n",
       "    .dataframe tbody tr th {\n",
       "        vertical-align: top;\n",
       "    }\n",
       "\n",
       "    .dataframe thead th {\n",
       "        text-align: right;\n",
       "    }\n",
       "</style>\n",
       "<table border=\"1\" class=\"dataframe\">\n",
       "  <thead>\n",
       "    <tr style=\"text-align: right;\">\n",
       "      <th></th>\n",
       "      <th>source</th>\n",
       "    </tr>\n",
       "    <tr>\n",
       "      <th>focus_area</th>\n",
       "      <th></th>\n",
       "    </tr>\n",
       "  </thead>\n",
       "  <tbody>\n",
       "    <tr>\n",
       "      <th>Hemochromatosis</th>\n",
       "      <td>4</td>\n",
       "    </tr>\n",
       "    <tr>\n",
       "      <th>Stroke</th>\n",
       "      <td>4</td>\n",
       "    </tr>\n",
       "    <tr>\n",
       "      <th>Heart Failure</th>\n",
       "      <td>3</td>\n",
       "    </tr>\n",
       "    <tr>\n",
       "      <th>Asthma</th>\n",
       "      <td>3</td>\n",
       "    </tr>\n",
       "    <tr>\n",
       "      <th>Cushing's Syndrome</th>\n",
       "      <td>3</td>\n",
       "    </tr>\n",
       "  </tbody>\n",
       "</table>\n",
       "</div>"
      ],
      "text/plain": [
       "                    source\n",
       "focus_area                \n",
       "Hemochromatosis          4\n",
       "Stroke                   4\n",
       "Heart Failure            3\n",
       "Asthma                   3\n",
       "Cushing's Syndrome       3"
      ]
     },
     "execution_count": 18,
     "metadata": {},
     "output_type": "execute_result"
    }
   ],
   "source": [
    "diversity_per_focus_area = df.groupby('focus_area')[['source']]\\\n",
    "    .nunique()\\\n",
    "    .sort_values(by='source', ascending=False)\n",
    "\n",
    "diversity_per_focus_area.head()"
   ]
  },
  {
   "cell_type": "code",
   "execution_count": 19,
   "metadata": {
    "execution": {
     "iopub.execute_input": "2025-09-25T10:51:09.210155Z",
     "iopub.status.busy": "2025-09-25T10:51:09.209540Z",
     "iopub.status.idle": "2025-09-25T10:51:09.215010Z",
     "shell.execute_reply": "2025-09-25T10:51:09.214402Z",
     "shell.execute_reply.started": "2025-09-25T10:51:09.210128Z"
    },
    "trusted": true
   },
   "outputs": [
    {
     "data": {
      "text/plain": [
       "(5125, 1)"
      ]
     },
     "execution_count": 19,
     "metadata": {},
     "output_type": "execute_result"
    }
   ],
   "source": [
    "diversity_per_focus_area.shape"
   ]
  },
  {
   "cell_type": "code",
   "execution_count": 20,
   "metadata": {
    "execution": {
     "iopub.execute_input": "2025-09-25T10:50:52.299952Z",
     "iopub.status.busy": "2025-09-25T10:50:52.299032Z",
     "iopub.status.idle": "2025-09-25T10:50:52.306181Z",
     "shell.execute_reply": "2025-09-25T10:50:52.305325Z",
     "shell.execute_reply.started": "2025-09-25T10:50:52.299923Z"
    },
    "trusted": true
   },
   "outputs": [
    {
     "data": {
      "text/plain": [
       "(4814, 1)"
      ]
     },
     "execution_count": 20,
     "metadata": {},
     "output_type": "execute_result"
    }
   ],
   "source": [
    "# number of focus areas with only 1 source\n",
    "diversity_per_focus_area[diversity_per_focus_area['source'] == 1].shape"
   ]
  },
  {
   "cell_type": "markdown",
   "metadata": {},
   "source": [
    "Most focus areas have only 1 source."
   ]
  },
  {
   "cell_type": "markdown",
   "metadata": {},
   "source": [
    "### Diversity of focus areas for each source"
   ]
  },
  {
   "cell_type": "code",
   "execution_count": 21,
   "metadata": {
    "execution": {
     "iopub.execute_input": "2025-09-25T10:53:51.964044Z",
     "iopub.status.busy": "2025-09-25T10:53:51.963226Z",
     "iopub.status.idle": "2025-09-25T10:53:51.977178Z",
     "shell.execute_reply": "2025-09-25T10:53:51.976409Z",
     "shell.execute_reply.started": "2025-09-25T10:53:51.964019Z"
    },
    "trusted": true
   },
   "outputs": [
    {
     "data": {
      "text/html": [
       "<div>\n",
       "<style scoped>\n",
       "    .dataframe tbody tr th:only-of-type {\n",
       "        vertical-align: middle;\n",
       "    }\n",
       "\n",
       "    .dataframe tbody tr th {\n",
       "        vertical-align: top;\n",
       "    }\n",
       "\n",
       "    .dataframe thead th {\n",
       "        text-align: right;\n",
       "    }\n",
       "</style>\n",
       "<table border=\"1\" class=\"dataframe\">\n",
       "  <thead>\n",
       "    <tr style=\"text-align: right;\">\n",
       "      <th></th>\n",
       "      <th>focus_area</th>\n",
       "    </tr>\n",
       "    <tr>\n",
       "      <th>source</th>\n",
       "      <th></th>\n",
       "    </tr>\n",
       "  </thead>\n",
       "  <tbody>\n",
       "    <tr>\n",
       "      <th>GARD</th>\n",
       "      <td>2684</td>\n",
       "    </tr>\n",
       "    <tr>\n",
       "      <th>GHR</th>\n",
       "      <td>1086</td>\n",
       "    </tr>\n",
       "    <tr>\n",
       "      <th>MPlusHealthTopics</th>\n",
       "      <td>981</td>\n",
       "    </tr>\n",
       "    <tr>\n",
       "      <th>NINDS</th>\n",
       "      <td>272</td>\n",
       "    </tr>\n",
       "    <tr>\n",
       "      <th>NIDDK</th>\n",
       "      <td>148</td>\n",
       "    </tr>\n",
       "  </tbody>\n",
       "</table>\n",
       "</div>"
      ],
      "text/plain": [
       "                   focus_area\n",
       "source                       \n",
       "GARD                     2684\n",
       "GHR                      1086\n",
       "MPlusHealthTopics         981\n",
       "NINDS                     272\n",
       "NIDDK                     148"
      ]
     },
     "execution_count": 21,
     "metadata": {},
     "output_type": "execute_result"
    }
   ],
   "source": [
    "# how many topics each source writes about\n",
    "source_diversity = df.groupby('source')[['focus_area']]\\\n",
    "    .nunique()\\\n",
    "    .sort_values(by='focus_area', ascending=False)\n",
    "\n",
    "source_diversity.head()"
   ]
  },
  {
   "cell_type": "code",
   "execution_count": 22,
   "metadata": {
    "execution": {
     "iopub.execute_input": "2025-09-25T10:54:01.495683Z",
     "iopub.status.busy": "2025-09-25T10:54:01.494752Z",
     "iopub.status.idle": "2025-09-25T10:54:01.502649Z",
     "shell.execute_reply": "2025-09-25T10:54:01.501948Z",
     "shell.execute_reply.started": "2025-09-25T10:54:01.495653Z"
    },
    "trusted": true
   },
   "outputs": [
    {
     "data": {
      "text/html": [
       "<div>\n",
       "<style scoped>\n",
       "    .dataframe tbody tr th:only-of-type {\n",
       "        vertical-align: middle;\n",
       "    }\n",
       "\n",
       "    .dataframe tbody tr th {\n",
       "        vertical-align: top;\n",
       "    }\n",
       "\n",
       "    .dataframe thead th {\n",
       "        text-align: right;\n",
       "    }\n",
       "</style>\n",
       "<table border=\"1\" class=\"dataframe\">\n",
       "  <thead>\n",
       "    <tr style=\"text-align: right;\">\n",
       "      <th></th>\n",
       "      <th>focus_area</th>\n",
       "    </tr>\n",
       "    <tr>\n",
       "      <th>source</th>\n",
       "      <th></th>\n",
       "    </tr>\n",
       "  </thead>\n",
       "  <tbody>\n",
       "    <tr>\n",
       "      <th>NIDDK</th>\n",
       "      <td>148</td>\n",
       "    </tr>\n",
       "    <tr>\n",
       "      <th>CancerGov</th>\n",
       "      <td>98</td>\n",
       "    </tr>\n",
       "    <tr>\n",
       "      <th>NHLBI</th>\n",
       "      <td>88</td>\n",
       "    </tr>\n",
       "    <tr>\n",
       "      <th>CDC</th>\n",
       "      <td>56</td>\n",
       "    </tr>\n",
       "    <tr>\n",
       "      <th>NIHSeniorHealth</th>\n",
       "      <td>48</td>\n",
       "    </tr>\n",
       "  </tbody>\n",
       "</table>\n",
       "</div>"
      ],
      "text/plain": [
       "                 focus_area\n",
       "source                     \n",
       "NIDDK                   148\n",
       "CancerGov                98\n",
       "NHLBI                    88\n",
       "CDC                      56\n",
       "NIHSeniorHealth          48"
      ]
     },
     "execution_count": 22,
     "metadata": {},
     "output_type": "execute_result"
    }
   ],
   "source": [
    "source_diversity.tail()"
   ]
  },
  {
   "cell_type": "markdown",
   "metadata": {},
   "source": [
    "Each source writes about a variety of topics"
   ]
  },
  {
   "cell_type": "markdown",
   "metadata": {},
   "source": [
    "### Most frequent words by topic"
   ]
  },
  {
   "cell_type": "code",
   "execution_count": 23,
   "metadata": {},
   "outputs": [],
   "source": [
    "def top_10_words(series):\n",
    "    # join all answers in the same focus area\n",
    "    all_text = \" \".join(series).lower()\n",
    "    # split into words\n",
    "    words = all_text.split()\n",
    "    # count frequency\n",
    "    counter = Counter(words)\n",
    "    # get top 10\n",
    "    return counter.most_common(10)"
   ]
  },
  {
   "cell_type": "code",
   "execution_count": 24,
   "metadata": {},
   "outputs": [],
   "source": [
    "top_words_per_focus_area = (\n",
    "    df.groupby('focus_area')['answer']\n",
    "      .apply(top_10_words)\n",
    "      .reset_index(name='top_words')\n",
    ")"
   ]
  },
  {
   "cell_type": "code",
   "execution_count": 49,
   "metadata": {},
   "outputs": [],
   "source": [
    "d = {}\n",
    "\n",
    "for _, row in top_words_per_focus_area.iterrows():\n",
    "    top_words = row['top_words']\n",
    "    for w, freq in top_words:\n",
    "        d[w] = d.get(w, 0) + 1\n",
    "\n",
    "lst = sorted(list(d.items()), key = lambda x: x[1], reverse = True)"
   ]
  },
  {
   "cell_type": "code",
   "execution_count": 51,
   "metadata": {},
   "outputs": [
    {
     "data": {
      "text/plain": [
       "[('the', 4880),\n",
       " ('of', 4784),\n",
       " ('and', 4694),\n",
       " ('in', 4146),\n",
       " ('a', 4127),\n",
       " ('is', 3992),\n",
       " ('-', 2513),\n",
       " ('to', 2190),\n",
       " ('or', 1245),\n",
       " ('information', 1116)]"
      ]
     },
     "execution_count": 51,
     "metadata": {},
     "output_type": "execute_result"
    }
   ],
   "source": [
    "lst[:10]"
   ]
  },
  {
   "cell_type": "markdown",
   "metadata": {},
   "source": [
    "Most frequent words used in each article are stopwords"
   ]
  }
 ],
 "metadata": {
  "kaggle": {
   "accelerator": "none",
   "dataSources": [
    {
     "datasetId": 841565,
     "sourceId": 7639866,
     "sourceType": "datasetVersion"
    }
   ],
   "dockerImageVersionId": 31089,
   "isGpuEnabled": false,
   "isInternetEnabled": true,
   "language": "python",
   "sourceType": "notebook"
  },
  "kernelspec": {
   "display_name": ".venv",
   "language": "python",
   "name": "python3"
  },
  "language_info": {
   "codemirror_mode": {
    "name": "ipython",
    "version": 3
   },
   "file_extension": ".py",
   "mimetype": "text/x-python",
   "name": "python",
   "nbconvert_exporter": "python",
   "pygments_lexer": "ipython3",
   "version": "3.12.1"
  }
 },
 "nbformat": 4,
 "nbformat_minor": 4
}
